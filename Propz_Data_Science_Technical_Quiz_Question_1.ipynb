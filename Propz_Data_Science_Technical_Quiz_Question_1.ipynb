{
  "nbformat": 4,
  "nbformat_minor": 0,
  "metadata": {
    "colab": {
      "name": "Propz Data Science Technical Quiz - Question 1",
      "provenance": [],
      "toc_visible": true,
      "authorship_tag": "ABX9TyOU06FFcoT2P3Rd4IsEHbyc",
      "include_colab_link": true
    },
    "kernelspec": {
      "name": "python3",
      "display_name": "Python 3"
    },
    "language_info": {
      "name": "python"
    }
  },
  "cells": [
    {
      "cell_type": "markdown",
      "metadata": {
        "id": "view-in-github",
        "colab_type": "text"
      },
      "source": [
        "<a href=\"https://colab.research.google.com/github/rsram27/propz/blob/main/Propz_Data_Science_Technical_Quiz_Question_1.ipynb\" target=\"_parent\"><img src=\"https://colab.research.google.com/assets/colab-badge.svg\" alt=\"Open In Colab\"/></a>"
      ]
    },
    {
      "cell_type": "markdown",
      "source": [
        "If Moose moves when 1,2,3,4, and Hunter only 5,5 then 6 possibles (6-sided die) moves each run, after rolled.\n",
        "Hunter need two minimal moves (moose start in position 7)\n",
        "Moose start when result in (1,4). Suposed first move is 1\n",
        "Hunter start when result in (5,6). Suposed your first move is 5. Now moose in 8, Hunter in 5. \n",
        "After, die get 4. Moose move to 12. Finish. Or =>\n",
        "If die get 5, Hunter move to 10 (Moose stand in 8) \n",
        "Again, die get 3. Moose move to 11\n",
        "Third rolled to Hunter, not is possible, because if die get 1-4, move is to Moose, and finish again. \n",
        "Think this case, is more possible when Moose Wins, there are more chances for the moose to win, an empirical thought. \n"
      ],
      "metadata": {
        "id": "wZ4PC0Jm14Lo"
      }
    },
    {
      "cell_type": "markdown",
      "source": [
        "If positions is representated in pairs P(h,g) to indicate coordinate\n",
        "If rolled 5, move for Hunter is representad = P(h+5,g)\n",
        "If rolled 2, move for Goose is representad = P(h,g+2)\n",
        "\n",
        "Then\n",
        "\n",
        "P(h,g) = 1/6 (P(h,**g**+1)+P(h,**g**+2)+P(h,**g**+3)+P(h,**g**+4)+P(**h**+5,g)+P(**h**+6,g))\n",
        "\n",
        "\n"
      ],
      "metadata": {
        "id": "mjFJTZ7z-VNZ"
      }
    },
    {
      "cell_type": "code",
      "source": [
        "def func(hunter,goose,num):\n",
        "    if hunter >= goose:\n",
        "        return 1.0/6**num\n",
        "    if goose >= 12:\n",
        "        return 0.0\n",
        "    probability = 0.0\n",
        "    for val in [1,2,3,4]:\n",
        "        probability += func(hunter,goose+val,num+1)\n",
        "    for val in [5,6]:\n",
        "        probability += func(hunter+val,goose,num+1)\n",
        "    return probability\n",
        "\n",
        "func(1,7,0)"
      ],
      "metadata": {
        "colab": {
          "base_uri": "https://localhost:8080/"
        },
        "id": "xK9Nk8cZ12zS",
        "outputId": "d7397e64-dc9e-4a11-82b7-d85ba0465877"
      },
      "execution_count": null,
      "outputs": [
        {
          "output_type": "execute_result",
          "data": {
            "text/plain": [
              "0.3872170781893004"
            ]
          },
          "metadata": {},
          "execution_count": 14
        }
      ]
    },
    {
      "cell_type": "markdown",
      "source": [
        "If the chance of the hunter winning is 0.38, we deduct in this case (and only valid for this situation, if we had 2 moose and a hunter, this would not be valid), chance of the moose is 1-0.38=0, 62"
      ],
      "metadata": {
        "id": "doSCYtAK1vDl"
      }
    }
  ]
}